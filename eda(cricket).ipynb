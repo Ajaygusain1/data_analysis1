{
 "cells": [
  {
   "cell_type": "code",
   "execution_count": 34,
   "id": "75315932-af4b-4658-9240-5674725bb775",
   "metadata": {},
   "outputs": [],
   "source": [
    "import pandas as pd  \n",
    "import numpy as np\n",
    "import seaborn as sns\n",
    "import matplotlib.pyplot as plt\n",
    "df=pd.read_csv('All_International_Cricket_Innings2[1].csv',parse_dates=['Start Date'])\n"
   ]
  },
  {
   "cell_type": "markdown",
   "id": "1031d9b9-e8a5-4ef3-9909-8057b55021ba",
   "metadata": {},
   "source": [
    "1> firstly we view the dataset "
   ]
  },
  {
   "cell_type": "code",
   "execution_count": 35,
   "id": "e4003abb-2c6a-4683-b4a9-35d411ee739d",
   "metadata": {},
   "outputs": [
    {
     "data": {
      "text/html": [
       "<div>\n",
       "<style scoped>\n",
       "    .dataframe tbody tr th:only-of-type {\n",
       "        vertical-align: middle;\n",
       "    }\n",
       "\n",
       "    .dataframe tbody tr th {\n",
       "        vertical-align: top;\n",
       "    }\n",
       "\n",
       "    .dataframe thead th {\n",
       "        text-align: right;\n",
       "    }\n",
       "</style>\n",
       "<table border=\"1\" class=\"dataframe\">\n",
       "  <thead>\n",
       "    <tr style=\"text-align: right;\">\n",
       "      <th></th>\n",
       "      <th>Unnamed: 0</th>\n",
       "      <th>Player</th>\n",
       "      <th>Runs</th>\n",
       "      <th>Mins</th>\n",
       "      <th>BF</th>\n",
       "      <th>4s</th>\n",
       "      <th>6s</th>\n",
       "      <th>SR</th>\n",
       "      <th>Inns</th>\n",
       "      <th>Unnamed: 8</th>\n",
       "      <th>Opposition</th>\n",
       "      <th>Ground</th>\n",
       "      <th>Start Date</th>\n",
       "    </tr>\n",
       "  </thead>\n",
       "  <tbody>\n",
       "    <tr>\n",
       "      <th>192342</th>\n",
       "      <td>186</td>\n",
       "      <td>SMH Kirmani (INDIA)</td>\n",
       "      <td>11</td>\n",
       "      <td>50</td>\n",
       "      <td>36</td>\n",
       "      <td>1</td>\n",
       "      <td>0</td>\n",
       "      <td>30.55</td>\n",
       "      <td>4</td>\n",
       "      <td>NaN</td>\n",
       "      <td>Test v New Zealand</td>\n",
       "      <td>Wellington</td>\n",
       "      <td>1981-02-21</td>\n",
       "    </tr>\n",
       "    <tr>\n",
       "      <th>192343</th>\n",
       "      <td>187</td>\n",
       "      <td>N Kapil Dev (INDIA)</td>\n",
       "      <td>9</td>\n",
       "      <td>36</td>\n",
       "      <td>26</td>\n",
       "      <td>1</td>\n",
       "      <td>0</td>\n",
       "      <td>34.61</td>\n",
       "      <td>4</td>\n",
       "      <td>NaN</td>\n",
       "      <td>Test v New Zealand</td>\n",
       "      <td>Wellington</td>\n",
       "      <td>1981-02-21</td>\n",
       "    </tr>\n",
       "    <tr>\n",
       "      <th>192344</th>\n",
       "      <td>188</td>\n",
       "      <td>RMH Binny (INDIA)</td>\n",
       "      <td>26*</td>\n",
       "      <td>111</td>\n",
       "      <td>86</td>\n",
       "      <td>2</td>\n",
       "      <td>0</td>\n",
       "      <td>30.23</td>\n",
       "      <td>4</td>\n",
       "      <td>NaN</td>\n",
       "      <td>Test v New Zealand</td>\n",
       "      <td>Wellington</td>\n",
       "      <td>1981-02-21</td>\n",
       "    </tr>\n",
       "    <tr>\n",
       "      <th>192345</th>\n",
       "      <td>189</td>\n",
       "      <td>RJ Shastri (INDIA)</td>\n",
       "      <td>19</td>\n",
       "      <td>70</td>\n",
       "      <td>54</td>\n",
       "      <td>3</td>\n",
       "      <td>0</td>\n",
       "      <td>35.18</td>\n",
       "      <td>4</td>\n",
       "      <td>NaN</td>\n",
       "      <td>Test v New Zealand</td>\n",
       "      <td>Wellington</td>\n",
       "      <td>1981-02-21</td>\n",
       "    </tr>\n",
       "    <tr>\n",
       "      <th>192346</th>\n",
       "      <td>190</td>\n",
       "      <td>B Yograj Singh (INDIA)</td>\n",
       "      <td>6</td>\n",
       "      <td>37</td>\n",
       "      <td>28</td>\n",
       "      <td>1</td>\n",
       "      <td>0</td>\n",
       "      <td>21.42</td>\n",
       "      <td>4</td>\n",
       "      <td>NaN</td>\n",
       "      <td>Test v New Zealand</td>\n",
       "      <td>Wellington</td>\n",
       "      <td>1981-02-21</td>\n",
       "    </tr>\n",
       "  </tbody>\n",
       "</table>\n",
       "</div>"
      ],
      "text/plain": [
       "        Unnamed: 0                  Player Runs Mins  BF 4s 6s     SR Inns  \\\n",
       "192342         186     SMH Kirmani (INDIA)   11   50  36  1  0  30.55    4   \n",
       "192343         187     N Kapil Dev (INDIA)    9   36  26  1  0  34.61    4   \n",
       "192344         188       RMH Binny (INDIA)  26*  111  86  2  0  30.23    4   \n",
       "192345         189      RJ Shastri (INDIA)   19   70  54  3  0  35.18    4   \n",
       "192346         190  B Yograj Singh (INDIA)    6   37  28  1  0  21.42    4   \n",
       "\n",
       "        Unnamed: 8          Opposition      Ground Start Date  \n",
       "192342         NaN  Test v New Zealand  Wellington 1981-02-21  \n",
       "192343         NaN  Test v New Zealand  Wellington 1981-02-21  \n",
       "192344         NaN  Test v New Zealand  Wellington 1981-02-21  \n",
       "192345         NaN  Test v New Zealand  Wellington 1981-02-21  \n",
       "192346         NaN  Test v New Zealand  Wellington 1981-02-21  "
      ]
     },
     "execution_count": 35,
     "metadata": {},
     "output_type": "execute_result"
    }
   ],
   "source": [
    "df.head()\n",
    "df.tail()\n",
    "# we observe that unnamed:0 and unnamed:8 has not any useful info.\n",
    "#so we can drop these 2 columns"
   ]
  },
  {
   "cell_type": "markdown",
   "id": "21612f53-7be0-4eaa-917c-4ec0b55960f9",
   "metadata": {},
   "source": [
    "2> drop 2 columns"
   ]
  },
  {
   "cell_type": "code",
   "execution_count": 36,
   "id": "2035b26c-0606-4fff-8217-97de67a52bf4",
   "metadata": {},
   "outputs": [],
   "source": [
    "df.drop(['Unnamed: 0','Unnamed: 8'],axis=1,inplace=True)"
   ]
  },
  {
   "cell_type": "code",
   "execution_count": 37,
   "id": "412dbb93-36ff-45fe-9b9b-f448faad3443",
   "metadata": {},
   "outputs": [
    {
     "data": {
      "text/plain": [
       "Index(['Player', 'Runs', 'Mins', 'BF', '4s', '6s', 'SR', 'Inns', 'Opposition',\n",
       "       'Ground', 'Start Date'],\n",
       "      dtype='object')"
      ]
     },
     "execution_count": 37,
     "metadata": {},
     "output_type": "execute_result"
    }
   ],
   "source": [
    "df.columns\n",
    "#so as we can see that columns mentioned above is dropped"
   ]
  },
  {
   "cell_type": "markdown",
   "id": "b765c4f8-fc3f-4518-b0ed-b3e6f6e4f8bd",
   "metadata": {},
   "source": [
    "3> to remove \\ * sign from Run column"
   ]
  },
  {
   "cell_type": "code",
   "execution_count": 38,
   "id": "2e9fff7b-3d05-4700-8a40-15b31268ec54",
   "metadata": {},
   "outputs": [
    {
     "name": "stderr",
     "output_type": "stream",
     "text": [
      "C:\\Users\\DELL\\AppData\\Local\\Temp\\ipykernel_3112\\3231119526.py:1: FutureWarning: The default value of regex will change from True to False in a future version.\n",
      "  df['Runs']=df.Runs.str.replace('\\*','')\n"
     ]
    }
   ],
   "source": [
    "df['Runs']=df.Runs.str.replace('\\*','')"
   ]
  },
  {
   "cell_type": "markdown",
   "id": "523e6d45-6847-4553-b20d-19c52728e544",
   "metadata": {},
   "source": [
    "4> to remove all unwanted special char. & whitespace from columns"
   ]
  },
  {
   "cell_type": "code",
   "execution_count": 39,
   "id": "258b30cf-ee7b-4b72-a884-5194f5087411",
   "metadata": {},
   "outputs": [
    {
     "name": "stderr",
     "output_type": "stream",
     "text": [
      "C:\\Users\\DELL\\AppData\\Local\\Temp\\ipykernel_3112\\1458721191.py:2: FutureWarning: The default value of regex will change from True to False in a future version.\n",
      "  df[cols]=df[cols].apply(lambda x: x.str.replace(r'[^0-9]+',''))\n"
     ]
    }
   ],
   "source": [
    "cols=[ 'Runs', 'Mins', 'BF', '4s', '6s', 'SR', 'Inns']\n",
    "df[cols]=df[cols].apply(lambda x: x.str.replace(r'[^0-9]+',''))\n",
    "df[cols]=df[cols].apply(lambda x: x.str.strip())\n",
    "#strip method use to remove white space"
   ]
  },
  {
   "cell_type": "code",
   "execution_count": 40,
   "id": "8588df70-1020-486a-aec3-6e5b3586967b",
   "metadata": {},
   "outputs": [],
   "source": [
    "#some player didnt score so we will drop data\n",
    "for i in cols:\n",
    "    df = df[df[i] != '']\n",
    "    df = df.astype({i :'float64'})"
   ]
  },
  {
   "cell_type": "code",
   "execution_count": 41,
   "id": "0064084a-9499-4d73-96f0-6a44ae0a486b",
   "metadata": {},
   "outputs": [
    {
     "data": {
      "text/plain": [
       "Player                object\n",
       "Runs                 float64\n",
       "Mins                 float64\n",
       "BF                   float64\n",
       "4s                   float64\n",
       "6s                   float64\n",
       "SR                   float64\n",
       "Inns                 float64\n",
       "Opposition            object\n",
       "Ground                object\n",
       "Start Date    datetime64[ns]\n",
       "dtype: object"
      ]
     },
     "execution_count": 41,
     "metadata": {},
     "output_type": "execute_result"
    }
   ],
   "source": [
    "df.dtypes"
   ]
  },
  {
   "cell_type": "code",
   "execution_count": 42,
   "id": "eba7cb01-daed-42f4-bb63-7a3134b23f20",
   "metadata": {},
   "outputs": [
    {
     "data": {
      "text/plain": [
       "0                TWM Latham (NZ)\n",
       "1                  WA Young (NZ)\n",
       "2             KS Williamson (NZ)\n",
       "3                 DP Conway (NZ)\n",
       "4               HM Nicholls (NZ)\n",
       "                   ...          \n",
       "192342       SMH Kirmani (INDIA)\n",
       "192343       N Kapil Dev (INDIA)\n",
       "192344         RMH Binny (INDIA)\n",
       "192345        RJ Shastri (INDIA)\n",
       "192346    B Yograj Singh (INDIA)\n",
       "Name: Player, Length: 125309, dtype: object"
      ]
     },
     "execution_count": 42,
     "metadata": {},
     "output_type": "execute_result"
    }
   ],
   "source": [
    "df.Player"
   ]
  },
  {
   "cell_type": "markdown",
   "id": "d935f72c-f059-4272-921c-dfc5a33f2a79",
   "metadata": {},
   "source": [
    "5> to separate nation name from player name"
   ]
  },
  {
   "cell_type": "code",
   "execution_count": 43,
   "id": "a9e31d11-d688-4443-8f49-8e453cc43863",
   "metadata": {},
   "outputs": [
    {
     "data": {
      "text/html": [
       "<div>\n",
       "<style scoped>\n",
       "    .dataframe tbody tr th:only-of-type {\n",
       "        vertical-align: middle;\n",
       "    }\n",
       "\n",
       "    .dataframe tbody tr th {\n",
       "        vertical-align: top;\n",
       "    }\n",
       "\n",
       "    .dataframe thead th {\n",
       "        text-align: right;\n",
       "    }\n",
       "</style>\n",
       "<table border=\"1\" class=\"dataframe\">\n",
       "  <thead>\n",
       "    <tr style=\"text-align: right;\">\n",
       "      <th></th>\n",
       "      <th>0</th>\n",
       "      <th>1</th>\n",
       "      <th>2</th>\n",
       "    </tr>\n",
       "  </thead>\n",
       "  <tbody>\n",
       "    <tr>\n",
       "      <th>0</th>\n",
       "      <td>TWM Latham</td>\n",
       "      <td>NZ)</td>\n",
       "      <td>None</td>\n",
       "    </tr>\n",
       "    <tr>\n",
       "      <th>1</th>\n",
       "      <td>WA Young</td>\n",
       "      <td>NZ)</td>\n",
       "      <td>None</td>\n",
       "    </tr>\n",
       "    <tr>\n",
       "      <th>2</th>\n",
       "      <td>KS Williamson</td>\n",
       "      <td>NZ)</td>\n",
       "      <td>None</td>\n",
       "    </tr>\n",
       "  </tbody>\n",
       "</table>\n",
       "</div>"
      ],
      "text/plain": [
       "                0    1     2\n",
       "0     TWM Latham   NZ)  None\n",
       "1       WA Young   NZ)  None\n",
       "2  KS Williamson   NZ)  None"
      ]
     },
     "execution_count": 43,
     "metadata": {},
     "output_type": "execute_result"
    }
   ],
   "source": [
    "df_new=df.Player.str.split('(',expand=True)\n",
    "df_new.head(3)"
   ]
  },
  {
   "cell_type": "code",
   "execution_count": 44,
   "id": "e7655909-b56e-44b1-88d5-86600d382f2d",
   "metadata": {},
   "outputs": [
    {
     "name": "stderr",
     "output_type": "stream",
     "text": [
      "C:\\Users\\DELL\\AppData\\Local\\Temp\\ipykernel_3112\\4052455863.py:1: FutureWarning: The default value of regex will change from True to False in a future version. In addition, single character regular expressions will *not* be treated as literal strings when regex=True.\n",
      "  df_new[1]=df_new[1].str.replace(')','')\n"
     ]
    },
    {
     "data": {
      "text/html": [
       "<div>\n",
       "<style scoped>\n",
       "    .dataframe tbody tr th:only-of-type {\n",
       "        vertical-align: middle;\n",
       "    }\n",
       "\n",
       "    .dataframe tbody tr th {\n",
       "        vertical-align: top;\n",
       "    }\n",
       "\n",
       "    .dataframe thead th {\n",
       "        text-align: right;\n",
       "    }\n",
       "</style>\n",
       "<table border=\"1\" class=\"dataframe\">\n",
       "  <thead>\n",
       "    <tr style=\"text-align: right;\">\n",
       "      <th></th>\n",
       "      <th>0</th>\n",
       "      <th>1</th>\n",
       "      <th>2</th>\n",
       "    </tr>\n",
       "  </thead>\n",
       "  <tbody>\n",
       "    <tr>\n",
       "      <th>0</th>\n",
       "      <td>TWM Latham</td>\n",
       "      <td>NZ</td>\n",
       "      <td>None</td>\n",
       "    </tr>\n",
       "    <tr>\n",
       "      <th>1</th>\n",
       "      <td>WA Young</td>\n",
       "      <td>NZ</td>\n",
       "      <td>None</td>\n",
       "    </tr>\n",
       "    <tr>\n",
       "      <th>2</th>\n",
       "      <td>KS Williamson</td>\n",
       "      <td>NZ</td>\n",
       "      <td>None</td>\n",
       "    </tr>\n",
       "  </tbody>\n",
       "</table>\n",
       "</div>"
      ],
      "text/plain": [
       "                0   1     2\n",
       "0     TWM Latham   NZ  None\n",
       "1       WA Young   NZ  None\n",
       "2  KS Williamson   NZ  None"
      ]
     },
     "execution_count": 44,
     "metadata": {},
     "output_type": "execute_result"
    }
   ],
   "source": [
    "df_new[1]=df_new[1].str.replace(')','')\n",
    "df_new.head(3)"
   ]
  },
  {
   "cell_type": "code",
   "execution_count": 45,
   "id": "537a041e-655b-4a98-80c9-36b8448234a5",
   "metadata": {},
   "outputs": [],
   "source": [
    "df['Name']=df_new[0].str.strip()\n",
    "df['Nation']=df_new[1].str.strip()\n",
    "df.drop(['Player'],axis=1,inplace=True)"
   ]
  },
  {
   "cell_type": "code",
   "execution_count": 46,
   "id": "32ec76c7-fbb2-4405-858c-450bcf179d08",
   "metadata": {},
   "outputs": [
    {
     "data": {
      "text/html": [
       "<div>\n",
       "<style scoped>\n",
       "    .dataframe tbody tr th:only-of-type {\n",
       "        vertical-align: middle;\n",
       "    }\n",
       "\n",
       "    .dataframe tbody tr th {\n",
       "        vertical-align: top;\n",
       "    }\n",
       "\n",
       "    .dataframe thead th {\n",
       "        text-align: right;\n",
       "    }\n",
       "</style>\n",
       "<table border=\"1\" class=\"dataframe\">\n",
       "  <thead>\n",
       "    <tr style=\"text-align: right;\">\n",
       "      <th></th>\n",
       "      <th>Runs</th>\n",
       "      <th>Mins</th>\n",
       "      <th>BF</th>\n",
       "      <th>4s</th>\n",
       "      <th>6s</th>\n",
       "      <th>SR</th>\n",
       "      <th>Inns</th>\n",
       "      <th>Opposition</th>\n",
       "      <th>Ground</th>\n",
       "      <th>Start Date</th>\n",
       "      <th>Name</th>\n",
       "      <th>Nation</th>\n",
       "    </tr>\n",
       "  </thead>\n",
       "  <tbody>\n",
       "    <tr>\n",
       "      <th>0</th>\n",
       "      <td>0.0</td>\n",
       "      <td>5.0</td>\n",
       "      <td>6.0</td>\n",
       "      <td>0.0</td>\n",
       "      <td>0.0</td>\n",
       "      <td>0.0</td>\n",
       "      <td>1.0</td>\n",
       "      <td>Test v England</td>\n",
       "      <td>Leeds</td>\n",
       "      <td>2022-06-23</td>\n",
       "      <td>TWM Latham</td>\n",
       "      <td>NZ</td>\n",
       "    </tr>\n",
       "    <tr>\n",
       "      <th>1</th>\n",
       "      <td>20.0</td>\n",
       "      <td>57.0</td>\n",
       "      <td>42.0</td>\n",
       "      <td>2.0</td>\n",
       "      <td>0.0</td>\n",
       "      <td>4761.0</td>\n",
       "      <td>1.0</td>\n",
       "      <td>Test v England</td>\n",
       "      <td>Leeds</td>\n",
       "      <td>2022-06-23</td>\n",
       "      <td>WA Young</td>\n",
       "      <td>NZ</td>\n",
       "    </tr>\n",
       "    <tr>\n",
       "      <th>2</th>\n",
       "      <td>31.0</td>\n",
       "      <td>97.0</td>\n",
       "      <td>64.0</td>\n",
       "      <td>5.0</td>\n",
       "      <td>0.0</td>\n",
       "      <td>4843.0</td>\n",
       "      <td>1.0</td>\n",
       "      <td>Test v England</td>\n",
       "      <td>Leeds</td>\n",
       "      <td>2022-06-23</td>\n",
       "      <td>KS Williamson</td>\n",
       "      <td>NZ</td>\n",
       "    </tr>\n",
       "    <tr>\n",
       "      <th>3</th>\n",
       "      <td>26.0</td>\n",
       "      <td>100.0</td>\n",
       "      <td>62.0</td>\n",
       "      <td>5.0</td>\n",
       "      <td>0.0</td>\n",
       "      <td>4193.0</td>\n",
       "      <td>1.0</td>\n",
       "      <td>Test v England</td>\n",
       "      <td>Leeds</td>\n",
       "      <td>2022-06-23</td>\n",
       "      <td>DP Conway</td>\n",
       "      <td>NZ</td>\n",
       "    </tr>\n",
       "    <tr>\n",
       "      <th>4</th>\n",
       "      <td>19.0</td>\n",
       "      <td>137.0</td>\n",
       "      <td>99.0</td>\n",
       "      <td>1.0</td>\n",
       "      <td>0.0</td>\n",
       "      <td>1919.0</td>\n",
       "      <td>1.0</td>\n",
       "      <td>Test v England</td>\n",
       "      <td>Leeds</td>\n",
       "      <td>2022-06-23</td>\n",
       "      <td>HM Nicholls</td>\n",
       "      <td>NZ</td>\n",
       "    </tr>\n",
       "  </tbody>\n",
       "</table>\n",
       "</div>"
      ],
      "text/plain": [
       "   Runs   Mins    BF   4s   6s      SR  Inns      Opposition Ground  \\\n",
       "0   0.0    5.0   6.0  0.0  0.0     0.0   1.0  Test v England  Leeds   \n",
       "1  20.0   57.0  42.0  2.0  0.0  4761.0   1.0  Test v England  Leeds   \n",
       "2  31.0   97.0  64.0  5.0  0.0  4843.0   1.0  Test v England  Leeds   \n",
       "3  26.0  100.0  62.0  5.0  0.0  4193.0   1.0  Test v England  Leeds   \n",
       "4  19.0  137.0  99.0  1.0  0.0  1919.0   1.0  Test v England  Leeds   \n",
       "\n",
       "  Start Date           Name Nation  \n",
       "0 2022-06-23     TWM Latham     NZ  \n",
       "1 2022-06-23       WA Young     NZ  \n",
       "2 2022-06-23  KS Williamson     NZ  \n",
       "3 2022-06-23      DP Conway     NZ  \n",
       "4 2022-06-23    HM Nicholls     NZ  "
      ]
     },
     "execution_count": 46,
     "metadata": {},
     "output_type": "execute_result"
    }
   ],
   "source": [
    "df.head()"
   ]
  },
  {
   "cell_type": "markdown",
   "id": "7f6774c8-db52-424b-90fe-8a2246be0426",
   "metadata": {},
   "source": [
    "6> info. of highest Runs scorer"
   ]
  },
  {
   "cell_type": "code",
   "execution_count": 47,
   "id": "229f792d-bb23-47dc-afec-4e98759bf9f8",
   "metadata": {},
   "outputs": [
    {
     "data": {
      "text/html": [
       "<div>\n",
       "<style scoped>\n",
       "    .dataframe tbody tr th:only-of-type {\n",
       "        vertical-align: middle;\n",
       "    }\n",
       "\n",
       "    .dataframe tbody tr th {\n",
       "        vertical-align: top;\n",
       "    }\n",
       "\n",
       "    .dataframe thead th {\n",
       "        text-align: right;\n",
       "    }\n",
       "</style>\n",
       "<table border=\"1\" class=\"dataframe\">\n",
       "  <thead>\n",
       "    <tr style=\"text-align: right;\">\n",
       "      <th></th>\n",
       "      <th>Runs</th>\n",
       "      <th>Mins</th>\n",
       "      <th>BF</th>\n",
       "      <th>4s</th>\n",
       "      <th>6s</th>\n",
       "      <th>SR</th>\n",
       "      <th>Inns</th>\n",
       "      <th>Opposition</th>\n",
       "      <th>Ground</th>\n",
       "      <th>Start Date</th>\n",
       "      <th>Name</th>\n",
       "      <th>Nation</th>\n",
       "    </tr>\n",
       "  </thead>\n",
       "  <tbody>\n",
       "    <tr>\n",
       "      <th>116856</th>\n",
       "      <td>400.0</td>\n",
       "      <td>778.0</td>\n",
       "      <td>582.0</td>\n",
       "      <td>43.0</td>\n",
       "      <td>4.0</td>\n",
       "      <td>6872.0</td>\n",
       "      <td>1.0</td>\n",
       "      <td>Test v England</td>\n",
       "      <td>St John's</td>\n",
       "      <td>2004-04-10</td>\n",
       "      <td>BC Lara</td>\n",
       "      <td>WI</td>\n",
       "    </tr>\n",
       "  </tbody>\n",
       "</table>\n",
       "</div>"
      ],
      "text/plain": [
       "         Runs   Mins     BF    4s   6s      SR  Inns      Opposition  \\\n",
       "116856  400.0  778.0  582.0  43.0  4.0  6872.0   1.0  Test v England   \n",
       "\n",
       "           Ground Start Date     Name Nation  \n",
       "116856  St John's 2004-04-10  BC Lara     WI  "
      ]
     },
     "execution_count": 47,
     "metadata": {},
     "output_type": "execute_result"
    }
   ],
   "source": [
    "df[df.Runs==df.Runs.max()]"
   ]
  },
  {
   "cell_type": "code",
   "execution_count": 61,
   "id": "39ca0a85-3c09-4a8f-a7dd-6b8da2f58954",
   "metadata": {},
   "outputs": [
    {
     "data": {
      "text/plain": [
       "52327           AN Cook\n",
       "71128           HM Amla\n",
       "138348        G Kirsten\n",
       "149392    ST Jayasuriya\n",
       "Name: Name, dtype: object"
      ]
     },
     "execution_count": 61,
     "metadata": {},
     "output_type": "execute_result"
    }
   ],
   "source": [
    "#as we can see that brian lara stayed for 778 min. in pitch to score max. runs\n",
    "#so is any other player stayed more than lara \n",
    "df[df.Mins > 778.0].Name"
   ]
  },
  {
   "cell_type": "markdown",
   "id": "caa66b33-2cd0-4911-a3e6-905decb14f44",
   "metadata": {},
   "source": [
    "7> most common score in dataset"
   ]
  },
  {
   "cell_type": "code",
   "execution_count": 62,
   "id": "37c0dae3-6549-411a-928f-7e1b68665143",
   "metadata": {},
   "outputs": [
    {
     "data": {
      "text/plain": [
       "0.0      13313\n",
       "1.0       7166\n",
       "2.0       5361\n",
       "4.0       4871\n",
       "5.0       4178\n",
       "         ...  \n",
       "262.0        1\n",
       "269.0        1\n",
       "251.0        1\n",
       "317.0        1\n",
       "280.0        1\n",
       "Name: Runs, Length: 293, dtype: int64"
      ]
     },
     "execution_count": 62,
     "metadata": {},
     "output_type": "execute_result"
    }
   ],
   "source": [
    "df.Runs.value_counts()"
   ]
  },
  {
   "cell_type": "code",
   "execution_count": 63,
   "id": "1bff1ef9-c0c4-4ae9-8e3d-3f237748c680",
   "metadata": {},
   "outputs": [
    {
     "data": {
      "text/plain": [
       "<AxesSubplot:>"
      ]
     },
     "execution_count": 63,
     "metadata": {},
     "output_type": "execute_result"
    },
    {
     "data": {
      "image/png": "[encoded data removed]",
      "text/plain": [
       "<Figure size 640x480 with 1 Axes>"
      ]
     },
     "metadata": {},
     "output_type": "display_data"
    }
   ],
   "source": [
    "sns.boxplot(df.Runs)"
   ]
  },
  {
   "cell_type": "markdown",
   "id": "7832d9ad-2a54-4984-ac8e-cd94476884e1",
   "metadata": {},
   "source": [
    "8> players who scored 99"
   ]
  },
  {
   "cell_type": "code",
   "execution_count": 76,
   "id": "6939001c-fd69-4b85-a420-07b128596fee",
   "metadata": {},
   "outputs": [
    {
     "name": "stdout",
     "output_type": "stream",
     "text": [
      "no. of player score 99 :  99\n"
     ]
    }
   ],
   "source": [
    "run_99=df[df.Runs==99.0]\n",
    "print('no. of player score 99 : ',len(run_99))"
   ]
  },
  {
   "cell_type": "code",
   "execution_count": 77,
   "id": "40bc3432-e13b-4515-b6de-e1c98f955d21",
   "metadata": {},
   "outputs": [
    {
     "data": {
      "text/plain": [
       "AUS      19\n",
       "INDIA    14\n",
       "ENG      13\n",
       "NZ       11\n",
       "PAK      11\n",
       "SA        9\n",
       "SL        8\n",
       "WI        5\n",
       "ZIM       5\n",
       "IRE       2\n",
       "UAE       1\n",
       "SCOT      1\n",
       "Name: Nation, dtype: int64"
      ]
     },
     "execution_count": 77,
     "metadata": {},
     "output_type": "execute_result"
    }
   ],
   "source": [
    "#most 99 runs nation wise\n",
    "run_99['Nation'].value_counts()"
   ]
  },
  {
   "cell_type": "code",
   "execution_count": 78,
   "id": "b4aa302d-6e11-4c02-accb-5e74c8df0fb5",
   "metadata": {},
   "outputs": [
    {
     "data": {
      "text/plain": [
       "SR Tendulkar      3\n",
       "Misbah-ul-Haq     3\n",
       "ML Hayden         2\n",
       "AB de Villiers    2\n",
       "ADR Campbell      2\n",
       "                 ..\n",
       "KP Pietersen      1\n",
       "MJ Clarke         1\n",
       "JP Duminy         1\n",
       "MN Waller         1\n",
       "Javed Miandad     1\n",
       "Name: Name, Length: 81, dtype: int64"
      ]
     },
     "execution_count": 78,
     "metadata": {},
     "output_type": "execute_result"
    }
   ],
   "source": [
    "#player Name who scored most 99 \n",
    "run_99.Name.value_counts()"
   ]
  },
  {
   "cell_type": "markdown",
   "id": "8fc7e3d6-e67a-45b8-aebc-2a0296f1c337",
   "metadata": {},
   "source": [
    "9> player with most duck in dataset"
   ]
  },
  {
   "cell_type": "code",
   "execution_count": 97,
   "id": "ee3a75a9-9556-40e4-a755-5777f7a64eac",
   "metadata": {},
   "outputs": [
    {
     "name": "stdout",
     "output_type": "stream",
     "text": [
      "no. of player with duck score :  13313\n"
     ]
    }
   ],
   "source": [
    "duck=df[df.Runs==0.0]\n",
    "print('no. of player with duck score : ',duck.shape[0])"
   ]
  },
  {
   "cell_type": "code",
   "execution_count": 86,
   "id": "47d8bdce-231b-4b4d-aa16-46a5336ffb76",
   "metadata": {},
   "outputs": [
    {
     "data": {
      "text/plain": [
       "JM Anderson        80\n",
       "M Muralidaran      67\n",
       "GD McGrath         66\n",
       "CA Walsh           66\n",
       "CS Martin          59\n",
       "                   ..\n",
       "DL Maddy            1\n",
       "Zeeshan Maqsood     1\n",
       "PS Masvaure         1\n",
       "PM Nevill           1\n",
       "Yashpal Sharma      1\n",
       "Name: Name, Length: 2076, dtype: int64"
      ]
     },
     "execution_count": 86,
     "metadata": {},
     "output_type": "execute_result"
    }
   ],
   "source": [
    "duck.Name.value_counts()"
   ]
  },
  {
   "cell_type": "code",
   "execution_count": 101,
   "id": "04a79610-c1cd-4d28-8d04-58e209a92204",
   "metadata": {},
   "outputs": [
    {
     "data": {
      "text/plain": [
       "AUS      15341\n",
       "ENG      15183\n",
       "INDIA    12817\n",
       "NZ       12787\n",
       "PAK      12318\n",
       "WI       12096\n",
       "SL       11605\n",
       "SA       10387\n",
       "ZIM       7290\n",
       "BAN       6389\n",
       "IRE       1581\n",
       "AFG       1247\n",
       "KENYA     1224\n",
       "NED       1001\n",
       "SCOT       936\n",
       "CAN        620\n",
       "UAE        394\n",
       "BMUDA      259\n",
       "HKG        196\n",
       "NAM        165\n",
       "PNG         99\n",
       "TAN         83\n",
       "NEPAL       82\n",
       "OMA         77\n",
       "UGA         69\n",
       "Afr         64\n",
       "ICC         64\n",
       "Asia        62\n",
       "LES         60\n",
       "NGA         56\n",
       "RWN         52\n",
       "            52\n",
       "SEY         49\n",
       "Bhm         44\n",
       "CAM         43\n",
       "Ghana       39\n",
       "MOZ         39\n",
       "MWI         37\n",
       "SLE         34\n",
       "USA         31\n",
       "MAL         30\n",
       "Caym        30\n",
       "3           27\n",
       "BOT         26\n",
       "SGP         23\n",
       "TKY         22\n",
       "KUW         19\n",
       "DEN         19\n",
       "Fin         19\n",
       "Aut         18\n",
       "ROM         17\n",
       "GUE         17\n",
       "LUX         16\n",
       "CZK-R       15\n",
       "QAT         15\n",
       "JER         12\n",
       "1            9\n",
       "2            3\n",
       "Name: Nation, dtype: int64"
      ]
     },
     "execution_count": 101,
     "metadata": {},
     "output_type": "execute_result"
    }
   ],
   "source": [
    "df.Nation.value_counts()\n",
    "\n",
    "#from given analysis we can say that Anderson score duck 80times\n",
    "#and Australia has most duck scorer in their team "
   ]
  },
  {
   "cell_type": "markdown",
   "id": "f2d16466-8129-4362-a923-c3c00f0fe5d2",
   "metadata": {},
   "source": [
    "10> sort the nation as per their run"
   ]
  },
  {
   "cell_type": "code",
   "execution_count": 119,
   "id": "aabdace3-1dba-473a-b671-9aaf64fbd057",
   "metadata": {},
   "outputs": [
    {
     "data": {
      "text/plain": [
       "Nation\n",
       "1       31.0\n",
       "2       34.0\n",
       "TKY     66.0\n",
       "Fin    185.0\n",
       "GUE    209.0\n",
       "Name: Runs, dtype: float64"
      ]
     },
     "execution_count": 119,
     "metadata": {},
     "output_type": "execute_result"
    }
   ],
   "source": [
    "df.groupby('Nation')['Runs'].sum().sort_values(ascending=True).head()\n"
   ]
  },
  {
   "cell_type": "code",
   "execution_count": 120,
   "id": "d408b300-af48-4bc1-86ed-225c042aa5b0",
   "metadata": {},
   "outputs": [],
   "source": [
    "#as we can see that some Nation name with 1,2,3 and whitespace\n",
    "\n",
    "df['Nation'] = df['Nation'].replace({'1':'PAK', '2': 'DEN', '3': 'PAK','': 'rest'})"
   ]
  },
  {
   "cell_type": "code",
   "execution_count": 121,
   "id": "c88a8203-cadf-4e7f-91d5-2298176e7c69",
   "metadata": {},
   "outputs": [
    {
     "data": {
      "text/plain": [
       "Nation\n",
       "AUS      424751.0\n",
       "ENG      381943.0\n",
       "INDIA    352881.0\n",
       "PAK      307927.0\n",
       "NZ       302106.0\n",
       "Name: Runs, dtype: float64"
      ]
     },
     "execution_count": 121,
     "metadata": {},
     "output_type": "execute_result"
    }
   ],
   "source": [
    "df.groupby('Nation')['Runs'].sum().sort_values(ascending=False).head()"
   ]
  },
  {
   "cell_type": "markdown",
   "id": "e965258a-376b-4101-bf1c-c52ed128dd34",
   "metadata": {},
   "source": [
    "11> player with most sixes "
   ]
  },
  {
   "cell_type": "code",
   "execution_count": 125,
   "id": "9b79f09e-b205-45ad-a628-7712ce1a2d52",
   "metadata": {},
   "outputs": [
    {
     "data": {
      "text/plain": [
       "Name\n",
       "CH Gayle         486.0\n",
       "Shahid Afridi    417.0\n",
       "BB McCullum      381.0\n",
       "MJ Guptill       354.0\n",
       "RG Sharma        353.0\n",
       "Name: 6s, dtype: float64"
      ]
     },
     "execution_count": 125,
     "metadata": {},
     "output_type": "execute_result"
    }
   ],
   "source": [
    "df.groupby('Name').sum()['6s'].sort_values(ascending=False).head()"
   ]
  },
  {
   "cell_type": "markdown",
   "id": "2456042c-406e-4fab-8274-243a58e5e1fb",
   "metadata": {},
   "source": [
    "12> player who score highest total run "
   ]
  },
  {
   "cell_type": "code",
   "execution_count": 126,
   "id": "4c7b983f-87b3-4902-afd6-a48c43560288",
   "metadata": {},
   "outputs": [
    {
     "data": {
      "text/plain": [
       "Name\n",
       "SR Tendulkar        32653.0\n",
       "KC Sangakkara       27415.0\n",
       "RT Ponting          27022.0\n",
       "JH Kallis           24669.0\n",
       "DPMD Jayawardene    24564.0\n",
       "Name: Runs, dtype: float64"
      ]
     },
     "execution_count": 126,
     "metadata": {},
     "output_type": "execute_result"
    }
   ],
   "source": [
    "df.groupby('Name').sum().Runs.sort_values(ascending=False).head()"
   ]
  },
  {
   "cell_type": "code",
   "execution_count": null,
   "id": "e0abf690-987d-4109-a83f-6c88890c7083",
   "metadata": {},
   "outputs": [],
   "source": []
  }
 ],
 "metadata": {
  "kernelspec": {
   "display_name": "Python 3 (ipykernel)",
   "language": "python",
   "name": "python3"
  },
  "language_info": {
   "codemirror_mode": {
    "name": "ipython",
    "version": 3
   },
   "file_extension": ".py",
   "mimetype": "text/x-python",
   "name": "python",
   "nbconvert_exporter": "python",
   "pygments_lexer": "ipython3",
   "version": "3.9.7"
  }
 },
 "nbformat": 4,
 "nbformat_minor": 5
}
